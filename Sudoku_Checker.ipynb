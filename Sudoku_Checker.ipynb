{
  "nbformat": 4,
  "nbformat_minor": 0,
  "metadata": {
    "colab": {
      "provenance": [],
      "mount_file_id": "1OCWupadSpjRYiRnPyU-6jLfL2K_7C_aN",
      "authorship_tag": "ABX9TyNwLlsLMHzy5czm+i9cK9k1",
      "include_colab_link": true
    },
    "kernelspec": {
      "name": "python3",
      "display_name": "Python 3"
    },
    "language_info": {
      "name": "python"
    }
  },
  "cells": [
    {
      "cell_type": "markdown",
      "metadata": {
        "id": "view-in-github",
        "colab_type": "text"
      },
      "source": [
        "<a href=\"https://colab.research.google.com/github/anisbhimani/anisbhimani.github.io/blob/main/Sudoku_Checker.ipynb\" target=\"_parent\"><img src=\"https://colab.research.google.com/assets/colab-badge.svg\" alt=\"Open In Colab\"/></a>"
      ]
    },
    {
      "cell_type": "code",
      "execution_count": null,
      "metadata": {
        "id": "BD5LEH9myYK_"
      },
      "outputs": [],
      "source": [
        "import math \n",
        "import pandas as pd"
      ]
    },
    {
      "cell_type": "code",
      "source": [
        "#Example correct answer: \n",
        "sudoku = [[5,3,4,6,7,8,9,1,2],\n",
        "          [6,7,2,1,9,5,3,4,8],\n",
        "          [1,9,8,3,4,2,5,6,7],\n",
        "          [8,5,9,7,6,1,4,2,3],\n",
        "          [4,2,6,8,5,3,7,9,1], \n",
        "          [7,1,3,9,2,4,8,5,6],\n",
        "          [9,6,1,5,3,7,2,8,4],\n",
        "          [2,8,7,4,1,9,6,3,5],\n",
        "          [3,4,5,2,8,6,1,7,9]]\n",
        "\n",
        "#Example incorrect answer \n",
        "sudoku2 = [[5,3,4,6,7,8,9,1,2],\n",
        "          [6,7,2,1,9,5,3,4,8],\n",
        "          [1,9,8,3,4,2,5,6,7],\n",
        "          [8,5,9,7,6,1,4,2,3],\n",
        "          [4,2,6,8,5,3,7,9,1], \n",
        "          [7,1,3,9,2,4,8,5,6],\n",
        "          [9,6,1,5,3,7,2,8,4],\n",
        "          [2,8,7,4,1,9,6,3,5],\n",
        "          [3,4,5,2,8,6,1,7,8]]"
      ],
      "metadata": {
        "id": "fmcCot_Fy1bn"
      },
      "execution_count": null,
      "outputs": []
    },
    {
      "cell_type": "code",
      "source": [
        "for i in sudoku: \n",
        "  print(set(i))"
      ],
      "metadata": {
        "colab": {
          "base_uri": "https://localhost:8080/"
        },
        "id": "pFJZgQZVzXRB",
        "outputId": "963f26de-1a38-49ef-bcd3-6fb318c8d902"
      },
      "execution_count": null,
      "outputs": [
        {
          "output_type": "stream",
          "name": "stdout",
          "text": [
            "{1, 2, 3, 4, 5, 6, 7, 8, 9}\n",
            "{1, 2, 3, 4, 5, 6, 7, 8, 9}\n",
            "{1, 2, 3, 4, 5, 6, 7, 8, 9}\n",
            "{1, 2, 3, 4, 5, 6, 7, 8, 9}\n",
            "{1, 2, 3, 4, 5, 6, 7, 8, 9}\n",
            "{1, 2, 3, 4, 5, 6, 7, 8, 9}\n",
            "{1, 2, 3, 4, 5, 6, 7, 8, 9}\n",
            "{1, 2, 3, 4, 5, 6, 7, 8, 9}\n",
            "{1, 2, 3, 4, 5, 6, 7, 8, 9}\n"
          ]
        }
      ]
    },
    {
      "cell_type": "code",
      "source": [
        "#9 unique answers in the row\n",
        "\n",
        "def isRowValid(row_num): \n",
        "  return len(set(sudoku[row_num])) == 9 and sum(set(sudoku[row_num])) == 45"
      ],
      "metadata": {
        "id": "W1NuNmXNz0j3"
      },
      "execution_count": null,
      "outputs": []
    },
    {
      "cell_type": "code",
      "source": [
        "isRowValid(0)"
      ],
      "metadata": {
        "colab": {
          "base_uri": "https://localhost:8080/"
        },
        "id": "I-SQqhPG_gp_",
        "outputId": "91b0f226-5861-4553-d805-11e448349ffd"
      },
      "execution_count": null,
      "outputs": [
        {
          "output_type": "execute_result",
          "data": {
            "text/plain": [
              "True"
            ]
          },
          "metadata": {},
          "execution_count": 150
        }
      ]
    },
    {
      "cell_type": "code",
      "source": [
        "#9 unique answers in the column \n",
        "\n",
        "def isColValid(col_num): \n",
        "  col = []\n",
        "  for j in sudoku: \n",
        "    col.append(j[col_num])\n",
        "  return len(set(col)) == 9 and sum(set(col)) == 45"
      ],
      "metadata": {
        "id": "9kN3L18g53IH"
      },
      "execution_count": null,
      "outputs": []
    },
    {
      "cell_type": "code",
      "source": [
        "#3x3 section is 9 unique and adds up to 45\n",
        "\n",
        "def isCellValid(cell_row, cell_col): \n",
        "  vals = []\n",
        "  vals.extend(sudoku[cell_row][cell_col: cell_col+3])\n",
        "  vals.extend(sudoku[cell_row + 1][cell_col:cell_col + 3])\n",
        "  vals.extend(sudoku[cell_row + 2][cell_col:cell_col + 3])\n",
        "  return len(set(vals)) == 9 and sum(set(vals)) == 45"
      ],
      "metadata": {
        "id": "LaTvuPW-56Lo"
      },
      "execution_count": null,
      "outputs": []
    },
    {
      "cell_type": "code",
      "source": [
        "isCellValid(0, 0)"
      ],
      "metadata": {
        "colab": {
          "base_uri": "https://localhost:8080/"
        },
        "id": "28Nz9kBW-9eo",
        "outputId": "8f9658cd-7a24-4d93-d5b3-204fb7885280"
      },
      "execution_count": null,
      "outputs": [
        {
          "output_type": "execute_result",
          "data": {
            "text/plain": [
              "True"
            ]
          },
          "metadata": {},
          "execution_count": 181
        }
      ]
    },
    {
      "cell_type": "code",
      "source": [
        "def validateSudoku(): \n",
        "  for i in range(9): \n",
        "    if not isRowValid(i): \n",
        "      return False\n",
        "    if not isColValid(i): \n",
        "      return False\n",
        "  for i in range(0, 9, 3): \n",
        "    for j in range(0, 9, 3):\n",
        "      #print(i, j)\n",
        "      if not isCellValid(i, j):\n",
        "        return False\n",
        "  return True"
      ],
      "metadata": {
        "id": "JZPLmOx9_Eum"
      },
      "execution_count": null,
      "outputs": []
    },
    {
      "cell_type": "code",
      "source": [
        "sudoku = [[5,3,4,6,7,8,0,10,2],\n",
        "          [6,7,2,10,0,5,3,4,8],\n",
        "          [10,0,8,3,4,2,5,6,7],\n",
        "          [8,5,0,7,6,10,4,2,3],\n",
        "          [4,2,6,8,5,3,7,0,10], \n",
        "          [7,10,3,0,2,4,8,5,6],\n",
        "          [0,6,10,5,3,7,2,8,4],\n",
        "          [2,8,7,4,10,0,6,3,5],\n",
        "          [3,4,5,2,8,6,10,7,0]]"
      ],
      "metadata": {
        "id": "dgmbs99MB5ML"
      },
      "execution_count": null,
      "outputs": []
    },
    {
      "cell_type": "code",
      "source": [
        "if validateSudoku(): \n",
        "  print(\"Valid\")\n",
        "else: \n",
        "  print(\"Invalid\")"
      ],
      "metadata": {
        "colab": {
          "base_uri": "https://localhost:8080/"
        },
        "id": "OPjYplkwC93e",
        "outputId": "c3532860-c82e-4785-99cf-19e2863dad21"
      },
      "execution_count": null,
      "outputs": [
        {
          "output_type": "stream",
          "name": "stdout",
          "text": [
            "Valid\n"
          ]
        }
      ]
    },
    {
      "cell_type": "code",
      "source": [
        "for i in range(9): \n",
        "  print(isColValid(i))"
      ],
      "metadata": {
        "colab": {
          "base_uri": "https://localhost:8080/"
        },
        "id": "MMldJtahDZjI",
        "outputId": "9db88d6c-1697-49d4-dfea-0f4be35e9166"
      },
      "execution_count": null,
      "outputs": [
        {
          "output_type": "stream",
          "name": "stdout",
          "text": [
            "True\n",
            "True\n",
            "True\n",
            "True\n",
            "True\n",
            "True\n",
            "True\n",
            "True\n",
            "True\n"
          ]
        }
      ]
    },
    {
      "cell_type": "code",
      "source": [],
      "metadata": {
        "id": "dUhOtwBuFleb"
      },
      "execution_count": null,
      "outputs": []
    }
  ]
}