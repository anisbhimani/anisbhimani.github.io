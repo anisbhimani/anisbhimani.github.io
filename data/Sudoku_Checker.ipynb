{
  "nbformat": 4,
  "nbformat_minor": 0,
  "metadata": {
    "colab": {
      "provenance": [],
      "mount_file_id": "1OCWupadSpjRYiRnPyU-6jLfL2K_7C_aN",
      "authorship_tag": "ABX9TyONd+uV7Z+yten9+ewbKRaL",
      "include_colab_link": true
    },
    "kernelspec": {
      "name": "python3",
      "display_name": "Python 3"
    },
    "language_info": {
      "name": "python"
    }
  },
  "cells": [
    {
      "cell_type": "markdown",
      "metadata": {
        "id": "view-in-github",
        "colab_type": "text"
      },
      "source": [
        "<a href=\"https://colab.research.google.com/github/anisbhimani/anisbhimani.github.io/blob/main/Sudoku_Checker.ipynb\" target=\"_parent\"><img src=\"https://colab.research.google.com/assets/colab-badge.svg\" alt=\"Open In Colab\"/></a>"
      ]
    },
    {
      "cell_type": "code",
      "execution_count": 2,
      "metadata": {
        "id": "BD5LEH9myYK_"
      },
      "outputs": [],
      "source": [
        "import math \n",
        "import pandas as pd"
      ]
    },
    {
      "cell_type": "code",
      "source": [
        "#Example correct answer: \n",
        "sudoku = [[5,3,4,6,7,8,9,1,2],\n",
        "          [6,7,2,1,9,5,3,4,8],\n",
        "          [1,9,8,3,4,2,5,6,7],\n",
        "          [8,5,9,7,6,1,4,2,3],\n",
        "          [4,2,6,8,5,3,7,9,1], \n",
        "          [7,1,3,9,2,4,8,5,6],\n",
        "          [9,6,1,5,3,7,2,8,4],\n",
        "          [2,8,7,4,1,9,6,3,5],\n",
        "          [3,4,5,2,8,6,1,7,9]]\n",
        "\n",
        "#Example incorrect answer \n",
        "sudoku2 = [[5,3,4,6,7,8,9,1,2],\n",
        "          [6,7,2,1,9,5,3,4,8],\n",
        "          [1,9,8,3,4,2,5,6,7],\n",
        "          [8,5,9,7,6,1,4,2,3],\n",
        "          [4,2,6,8,5,3,7,9,1], \n",
        "          [7,1,3,9,2,4,8,5,6],\n",
        "          [9,6,1,5,3,7,2,8,4],\n",
        "          [2,8,7,4,1,9,6,3,5],\n",
        "          [3,4,5,2,8,6,1,7,8]]"
      ],
      "metadata": {
        "id": "fmcCot_Fy1bn"
      },
      "execution_count": 22,
      "outputs": []
    },
    {
      "cell_type": "code",
      "source": [
        "#To validate that the sudoku above is incorrect, \n",
        "#let's make sure each row has exactly 1 digit betweeen 1-9 \n",
        "\n",
        "for i in sudoku: \n",
        "  print(set(i))"
      ],
      "metadata": {
        "colab": {
          "base_uri": "https://localhost:8080/"
        },
        "id": "pFJZgQZVzXRB",
        "outputId": "55e7c4a6-04c0-4209-edf2-eca9e793ff26"
      },
      "execution_count": 4,
      "outputs": [
        {
          "output_type": "stream",
          "name": "stdout",
          "text": [
            "{1, 2, 3, 4, 5, 6, 7, 8, 9}\n",
            "{1, 2, 3, 4, 5, 6, 7, 8, 9}\n",
            "{1, 2, 3, 4, 5, 6, 7, 8, 9}\n",
            "{1, 2, 3, 4, 5, 6, 7, 8, 9}\n",
            "{1, 2, 3, 4, 5, 6, 7, 8, 9}\n",
            "{1, 2, 3, 4, 5, 6, 7, 8, 9}\n",
            "{1, 2, 3, 4, 5, 6, 7, 8, 9}\n",
            "{1, 2, 3, 4, 5, 6, 7, 8, 9}\n",
            "{1, 2, 3, 4, 5, 6, 7, 8, 9}\n"
          ]
        }
      ]
    },
    {
      "cell_type": "code",
      "source": [
        "#We can also create a correct set to validate later\n",
        "trueSet = {1, 2, 3, 4, 5, 6, 7, 8, 9}\n",
        "\n",
        "#And test it along the rows\n",
        "for i in sudoku: \n",
        "  print(set(i) == trueSet)"
      ],
      "metadata": {
        "colab": {
          "base_uri": "https://localhost:8080/"
        },
        "id": "7cJue_T4f5uJ",
        "outputId": "732c7439-bf17-4d7f-9290-e6e6c9c0bc14"
      },
      "execution_count": 6,
      "outputs": [
        {
          "output_type": "stream",
          "name": "stdout",
          "text": [
            "True\n",
            "True\n",
            "True\n",
            "True\n",
            "True\n",
            "True\n",
            "True\n",
            "True\n",
            "True\n"
          ]
        }
      ]
    },
    {
      "cell_type": "code",
      "source": [
        "#9 unique answers in the row\n",
        "#those 9 answers are 1-9 \n",
        "\n",
        "def isRowValid(row_num): \n",
        "  return len(set(sudoku[row_num])) == 9 and set(sudoku[row_num]) == trueSet"
      ],
      "metadata": {
        "id": "W1NuNmXNz0j3"
      },
      "execution_count": 7,
      "outputs": []
    },
    {
      "cell_type": "code",
      "source": [
        "#Test our new function \n",
        "isRowValid(0)"
      ],
      "metadata": {
        "colab": {
          "base_uri": "https://localhost:8080/"
        },
        "id": "I-SQqhPG_gp_",
        "outputId": "d0b5b341-2c87-41f1-bc17-26df1f70efd7"
      },
      "execution_count": 9,
      "outputs": [
        {
          "output_type": "execute_result",
          "data": {
            "text/plain": [
              "True"
            ]
          },
          "metadata": {},
          "execution_count": 9
        }
      ]
    },
    {
      "cell_type": "code",
      "source": [
        "#9 unique answers in the column \n",
        "\n",
        "def isColValid(col_num): \n",
        "  col = []\n",
        "  for j in sudoku: \n",
        "    col.append(j[col_num])\n",
        "  return len(set(col)) == 9 and set(col) == trueSet"
      ],
      "metadata": {
        "id": "9kN3L18g53IH"
      },
      "execution_count": 10,
      "outputs": []
    },
    {
      "cell_type": "code",
      "source": [
        "#Test the column function \n",
        "isColValid(0)"
      ],
      "metadata": {
        "colab": {
          "base_uri": "https://localhost:8080/"
        },
        "id": "UhrB-1CHgzu7",
        "outputId": "49832fa5-bba8-463d-a460-3d1beba2ccc7"
      },
      "execution_count": 11,
      "outputs": [
        {
          "output_type": "execute_result",
          "data": {
            "text/plain": [
              "True"
            ]
          },
          "metadata": {},
          "execution_count": 11
        }
      ]
    },
    {
      "cell_type": "code",
      "source": [
        "#3x3 section is 9 unique and adds up to 45\n",
        "\n",
        "def isCellValid(cell_row, cell_col): \n",
        "  vals = []\n",
        "  vals.extend(sudoku[cell_row][cell_col: cell_col+3])\n",
        "  vals.extend(sudoku[cell_row + 1][cell_col:cell_col + 3])\n",
        "  vals.extend(sudoku[cell_row + 2][cell_col:cell_col + 3])\n",
        "  return len(set(vals)) == 9 and set(vals) == trueSet"
      ],
      "metadata": {
        "id": "LaTvuPW-56Lo"
      },
      "execution_count": 13,
      "outputs": []
    },
    {
      "cell_type": "code",
      "source": [
        "#Test the 3x3 funciton \n",
        "isCellValid(0, 0)"
      ],
      "metadata": {
        "colab": {
          "base_uri": "https://localhost:8080/"
        },
        "id": "28Nz9kBW-9eo",
        "outputId": "b80140eb-bba0-42fb-d398-a71e8104a662"
      },
      "execution_count": 15,
      "outputs": [
        {
          "output_type": "execute_result",
          "data": {
            "text/plain": [
              "True"
            ]
          },
          "metadata": {},
          "execution_count": 15
        }
      ]
    },
    {
      "cell_type": "code",
      "source": [
        "#Putting all the functions together \n",
        "\n",
        "def validateSudoku(): \n",
        "  for i in range(9): \n",
        "    if not isRowValid(i): \n",
        "      return False\n",
        "    if not isColValid(i): \n",
        "      return False\n",
        "  for i in range(0, 9, 3): \n",
        "    for j in range(0, 9, 3):\n",
        "      #print(i, j)\n",
        "      if not isCellValid(i, j):\n",
        "        return False\n",
        "  return True"
      ],
      "metadata": {
        "id": "JZPLmOx9_Eum"
      },
      "execution_count": 17,
      "outputs": []
    },
    {
      "cell_type": "code",
      "source": [
        "#Let's run our new function \n",
        "\n",
        "if validateSudoku(): \n",
        "  print(\"Sudoku is Valid\")\n",
        "else: \n",
        "  print(\"Sudoku is Invalid\")"
      ],
      "metadata": {
        "colab": {
          "base_uri": "https://localhost:8080/"
        },
        "id": "K7tM6OnsiBlZ",
        "outputId": "229c7f9e-c349-4c11-ac60-cc2aad22e442"
      },
      "execution_count": 23,
      "outputs": [
        {
          "output_type": "stream",
          "name": "stdout",
          "text": [
            "Sudoku is Valid\n"
          ]
        }
      ]
    },
    {
      "cell_type": "code",
      "source": [
        "#Let's try it with a wrong sudoku now\n",
        "\n",
        "sudoku = [[5,3,4,6,7,8,0,10,2],\n",
        "          [6,7,2,10,0,5,3,4,8],\n",
        "          [10,0,8,3,4,2,5,6,7],\n",
        "          [8,5,0,7,6,10,4,2,3],\n",
        "          [4,2,6,8,5,3,7,0,10], \n",
        "          [7,10,3,0,2,4,8,5,6],\n",
        "          [0,6,10,5,3,7,2,8,4],\n",
        "          [2,8,7,4,10,0,6,3,5],\n",
        "          [3,4,5,2,8,6,10,7,0]]"
      ],
      "metadata": {
        "id": "dgmbs99MB5ML"
      },
      "execution_count": 20,
      "outputs": []
    },
    {
      "cell_type": "code",
      "source": [
        "if validateSudoku(): \n",
        "  print(\"Sudoku is Valid\")\n",
        "else: \n",
        "  print(\"Sudoku is Invalid\")"
      ],
      "metadata": {
        "colab": {
          "base_uri": "https://localhost:8080/"
        },
        "id": "OPjYplkwC93e",
        "outputId": "751f64cc-56e6-45ae-850d-a1119ae38e74"
      },
      "execution_count": 21,
      "outputs": [
        {
          "output_type": "stream",
          "name": "stdout",
          "text": [
            "Sudoku is Invalid\n"
          ]
        }
      ]
    },
    {
      "cell_type": "markdown",
      "source": [
        "Great the sudoku checker works!\n"
      ],
      "metadata": {
        "id": "IwEJf75QiHa3"
      }
    },
    {
      "cell_type": "code",
      "source": [],
      "metadata": {
        "id": "eRN4MYgziKSA"
      },
      "execution_count": null,
      "outputs": []
    }
  ]
}
